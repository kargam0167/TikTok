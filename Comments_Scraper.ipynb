{
 "cells": [
  {
   "cell_type": "code",
   "execution_count": null,
   "id": "67859b51",
   "metadata": {},
   "outputs": [],
   "source": [
    "# Scraping comments related to the video\n",
    "\n",
    "from tikapi import TikAPI, ValidationException, ResponseException\n",
    "\n",
    "api = TikAPI(\"gHHgnk4QYu4l5V1zrpqcAQEwtid8RL2lYP24NHvtf8TEfE8H\")\n",
    "User = api.user(\n",
    "    accountKey=\"ca67Q7Mjj3W68vVSgVrbCfc7usW9GKh9riddnG4fd3YD4RZ3\"\n",
    ")\n",
    "\n",
    "result_comments = []\n",
    "max_pages = 10\n",
    "page = 0\n",
    "\n",
    "try:\n",
    "    response = User.posts.comments.list(\n",
    "        media_id= \"6825563348424297734\" #video ID\n",
    "    )\n",
    "\n",
    "    print(response.json())\n",
    "        \n",
    "    while(response and page < max_pages):\n",
    "        result.append(response.json())\n",
    "        cursor = response.json().get('cursor')\n",
    "        print(\"Getting next items \", cursor)\n",
    "        response = response.next_items()\n",
    "        page += 1\n",
    "\n",
    "except ValidationException as e:\n",
    "    print(e, e.field)\n",
    "\n",
    "except ResponseException as e:\n",
    "    print(e, e.response.status_code)"
   ]
  },
  {
   "cell_type": "code",
   "execution_count": null,
   "id": "660a7a04",
   "metadata": {},
   "outputs": [],
   "source": [
    "#write over list to json\n",
    "result_json = json.dumps(result)"
   ]
  },
  {
   "cell_type": "code",
   "execution_count": null,
   "id": "c496a292",
   "metadata": {},
   "outputs": [],
   "source": [
    "pprint(result_comments[0])"
   ]
  }
 ],
 "metadata": {
  "kernelspec": {
   "display_name": "Python 3 (ipykernel)",
   "language": "python",
   "name": "python3"
  },
  "language_info": {
   "codemirror_mode": {
    "name": "ipython",
    "version": 3
   },
   "file_extension": ".py",
   "mimetype": "text/x-python",
   "name": "python",
   "nbconvert_exporter": "python",
   "pygments_lexer": "ipython3",
   "version": "3.8.8"
  }
 },
 "nbformat": 4,
 "nbformat_minor": 5
}
