{
 "cells": [
  {
   "cell_type": "code",
   "execution_count": 41,
   "id": "bda41ffb",
   "metadata": {},
   "outputs": [
    {
     "name": "stdout",
     "output_type": "stream",
     "text": [
      "2648\n"
     ]
    }
   ],
   "source": [
    "import pandas as pd\n",
    "\n",
    "# Navigate up one directory to find the CSV file\n",
    "csv_path_apr = '../csv/Author_df_apr.csv'\n",
    "\n",
    "# Read the CSV file into a DataFrame\n",
    "df_author_apr = pd.read_csv(csv_path_apr)\n",
    "\n",
    "# Filter the DataFrame based on multiple conditions: 'authorVideoCount' and 'duetSetting'\n",
    "filtered_df_apr = df_author_apr[(df_author_apr['authorVideoCount'] >= 10) & (df_author_apr['duetSetting'] == 0)]\n",
    "\n",
    "# Create a list of 'authorId' from the filtered DataFrame\n",
    "author_id_list_apr = filtered_df_apr['authorId'].tolist()\n",
    "\n",
    "# Display the list or do further processing\n",
    "print(len(author_id_list_apr))"
   ]
  },
  {
   "cell_type": "code",
   "execution_count": 42,
   "id": "8be72756",
   "metadata": {},
   "outputs": [
    {
     "name": "stdout",
     "output_type": "stream",
     "text": [
      "2222\n"
     ]
    }
   ],
   "source": [
    "# Read January scv to DataFrame\n",
    "csv_path_jan = '../csv/Author_df_jan.csv'\n",
    "\n",
    "# Read the CSV file into a DataFrame\n",
    "df_author_jan = pd.read_csv(csv_path_jan)\n",
    "\n",
    "# Filter the DataFrame based on multiple conditions: 'authorVideoCount' and 'duetSetting'\n",
    "filtered_df_jan = df_author_jan[(df_author_jan['authorVideoCount'] >= 10) & (df_author_jan['duetSetting'] == 0)]\n",
    "\n",
    "# Create a list of 'authorId' from the filtered DataFrame\n",
    "author_id_list_jan = filtered_df_jan['authorId'].tolist()\n",
    "\n",
    "# Display the list or do further processing\n",
    "print(len(author_id_list_jan))"
   ]
  },
  {
   "cell_type": "code",
   "execution_count": 46,
   "id": "6f2974c2",
   "metadata": {},
   "outputs": [
    {
     "name": "stdout",
     "output_type": "stream",
     "text": [
      "                                       duetVideoLink          duetVideoId  \\\n",
      "0  https://www.tiktok.com/@6791320529312941061/vi...  6947023689737112837   \n",
      "1  https://www.tiktok.com/@6950030771592709125/vi...  7119986038134656257   \n",
      "2  https://www.tiktok.com/@6895380185618940929/vi...  7079535815201787142   \n",
      "3  https://www.tiktok.com/@7055043945923822598/vi...  7172294040971463942   \n",
      "4  https://www.tiktok.com/@7014977461462041606/vi...  7091837811468406059   \n",
      "5  https://www.tiktok.com/@christabellatravels/vi...  6825424519843335429   \n",
      "6  https://www.tiktok.com/@6763491224218420230/vi...  7101315402956918022   \n",
      "7  https://www.tiktok.com/@6938912195011249157/vi...  7099060568274767109   \n",
      "8  https://www.tiktok.com/@6743418378922607621/vi...  6916730184490028294   \n",
      "9  https://www.tiktok.com/@6866418501851579398/vi...  6906533896897203461   \n",
      "\n",
      "          duetAuthorId             duetUniqueId  originalUniqueId  \\\n",
      "0  6791320529312941061           jenonajetplane    abigailmartiin   \n",
      "1  6950030771592709125        freelancewithsara   lorallangemeier   \n",
      "2  6895380185618940929             nomad.abroad      dynamitejobs   \n",
      "3  7055043945923822598          theremotejob.co     tiktoktarlton   \n",
      "4  7014977461462041606    legacy_wealth_crusade      jvrmarketing   \n",
      "5  6703793114487948293      christabellatravels       nikkibartol   \n",
      "6  6763491224218420230        journeyintheworld  christian.grossi   \n",
      "7  6938912195011249157  yourmarketingmentoranna             msnbc   \n",
      "8  6743418378922607621             diamondthedj       belindaskou   \n",
      "9  6866418501851579398              madelynmon0         nikkifoxx   \n",
      "\n",
      "                                   originalVideoLink      originalVideoId  \n",
      "0  https://www.tiktok.com/@abigailmartiin/video/6...  6936961003221470470  \n",
      "1  https://www.tiktok.com/@lorallangemeier/video/...  7119236932516810030  \n",
      "2  https://www.tiktok.com/@dynamitejobs/video/707...  7078785144257006894  \n",
      "3  https://www.tiktok.com/@tiktoktarlton/video/71...  7164809463168290090  \n",
      "4  https://www.tiktok.com/@jvrmarketing/video/709...  7091684758610201902  \n",
      "5  https://www.tiktok.com/@nikkibartol/video/6821...  6821538705640082694  \n",
      "6  https://www.tiktok.com/@christian.grossi/video...  7099555033972493614  \n",
      "7  https://www.tiktok.com/@msnbc/video/7096909768...  7096909768098434350  \n",
      "8  https://www.tiktok.com/@belindaskou/video/6901...  6901137754369920261  \n",
      "9  https://www.tiktok.com/@nikkifoxx/video/690431...  6904310243098938629  \n"
     ]
    }
   ],
   "source": [
    "#Read Duets scv to DataFrame\n",
    "csv_path_duet = '../csv/Duets.csv'\n",
    "\n",
    "# Read the CSV file into a DataFrame\n",
    "df_duets = pd.read_csv(csv_path_duet)\n",
    "print(df_duets)"
   ]
  },
  {
   "cell_type": "code",
   "execution_count": 47,
   "id": "51d6d298",
   "metadata": {},
   "outputs": [],
   "source": [
    "#Building Reach metric, combine 'FollowerCount', 'HeartCount', and 'VideoCount' \n",
    "\n",
    "df_author_apr['Reach'] = df_author_apr['authorFollowerCount'] + df_author_apr['authorHeartCount'] + df_author_apr['authorVideoCount']\n",
    "\n",
    "df_author_jan['Reach'] = df_author_jan['authorFollowerCount'] + df_author_jan['authorHeartCount'] + df_author_jan['authorVideoCount']"
   ]
  },
  {
   "cell_type": "code",
   "execution_count": 45,
   "id": "33e9fe44",
   "metadata": {},
   "outputs": [
    {
     "data": {
      "image/png": "[encoded data removed]",
      "text/plain": [
       "<Figure size 432x288 with 1 Axes>"
      ]
     },
     "metadata": {
      "needs_background": "light"
     },
     "output_type": "display_data"
    }
   ],
   "source": [
    "#Examining the distribution of Reach\n",
    "\n",
    "import matplotlib.pyplot as plt\n",
    "\n",
    "plt.hist(df_author_apr['Reach'], bins=50)\n",
    "plt.xlabel('Reach')\n",
    "plt.ylabel('Frequency')\n",
    "plt.title('Distribution of Reach')\n",
    "plt.show()\n"
   ]
  },
  {
   "cell_type": "code",
   "execution_count": 10,
   "id": "ed1103b3",
   "metadata": {},
   "outputs": [
    {
     "data": {
      "image/png": "[encoded data removed]",
      "text/plain": [
       "<Figure size 432x288 with 1 Axes>"
      ]
     },
     "metadata": {
      "needs_background": "light"
     },
     "output_type": "display_data"
    }
   ],
   "source": [
    "plt.boxplot(df_author_apr['Reach'])\n",
    "plt.title('Boxplot of Reach')\n",
    "plt.show()\n"
   ]
  },
  {
   "cell_type": "code",
   "execution_count": 51,
   "id": "30746353",
   "metadata": {},
   "outputs": [],
   "source": [
    "#Create Tiers for Jan and Apr datasets\n",
    "\n",
    "df_author_apr['Tier_apr'] = pd.qcut(df_author_apr['Reach'], q=3, labels=['Low', 'Medium', 'High'])\n",
    "\n",
    "df_author_jan['Tier_jan'] = pd.qcut(df_author_jan['Reach'], q=3, labels=['Low', 'Medium', 'High'])"
   ]
  },
  {
   "cell_type": "code",
   "execution_count": 52,
   "id": "801e36cf",
   "metadata": {},
   "outputs": [
    {
     "name": "stdout",
     "output_type": "stream",
     "text": [
      "Low       973\n",
      "Medium    973\n",
      "High      973\n",
      "Name: Tier_apr, dtype: int64\n",
      "Low       817\n",
      "High      817\n",
      "Medium    816\n",
      "Name: Tier_jan, dtype: int64\n"
     ]
    }
   ],
   "source": [
    "print(df_author_apr['Tier_apr'].value_counts())\n",
    "print(df_author_jan['Tier_jan'].value_counts())"
   ]
  },
  {
   "cell_type": "code",
   "execution_count": 54,
   "id": "172af4c4",
   "metadata": {},
   "outputs": [],
   "source": [
    "#Enrich Duet DataFrame with Tier in Jan and Apr\n",
    "\n",
    "df_author_apr_tier = df_author_apr[['authorId', 'Tier_apr']]\n",
    "df_author_jan_tier = df_author_jan[['authorId', 'Tier_jan']]\n"
   ]
  },
  {
   "cell_type": "code",
   "execution_count": 55,
   "id": "85dc7f25",
   "metadata": {},
   "outputs": [],
   "source": [
    "# Merge with df_author_apr to get Tier_Apr\n",
    "df_duets = df_duets.merge(df_author_apr_tier, left_on='duetAuthorId', right_on='authorId', how='left')\n",
    "\n",
    "# Merge with df_author_jan to get Tier_Jan\n",
    "df_duets = df_duets.merge(df_author_jan_tier, left_on='duetAuthorId', right_on='authorId', how='left', suffixes=('_apr', '_jan'))\n",
    "\n",
    "# Drop the extra 'authorId' columns if needed\n",
    "df_duets.drop(['authorId_apr', 'authorId_jan'], axis=1, inplace=True)\n"
   ]
  },
  {
   "cell_type": "code",
   "execution_count": 56,
   "id": "94937a83",
   "metadata": {},
   "outputs": [
    {
     "data": {
      "text/html": [
       "<div>\n",
       "<style scoped>\n",
       "    .dataframe tbody tr th:only-of-type {\n",
       "        vertical-align: middle;\n",
       "    }\n",
       "\n",
       "    .dataframe tbody tr th {\n",
       "        vertical-align: top;\n",
       "    }\n",
       "\n",
       "    .dataframe thead th {\n",
       "        text-align: right;\n",
       "    }\n",
       "</style>\n",
       "<table border=\"1\" class=\"dataframe\">\n",
       "  <thead>\n",
       "    <tr style=\"text-align: right;\">\n",
       "      <th></th>\n",
       "      <th>duetVideoLink</th>\n",
       "      <th>duetVideoId</th>\n",
       "      <th>duetAuthorId</th>\n",
       "      <th>duetUniqueId</th>\n",
       "      <th>originalUniqueId</th>\n",
       "      <th>originalVideoLink</th>\n",
       "      <th>originalVideoId</th>\n",
       "      <th>Tier_apr</th>\n",
       "      <th>Tier_jan</th>\n",
       "    </tr>\n",
       "  </thead>\n",
       "  <tbody>\n",
       "    <tr>\n",
       "      <th>0</th>\n",
       "      <td>https://www.tiktok.com/@6791320529312941061/vi...</td>\n",
       "      <td>6947023689737112837</td>\n",
       "      <td>6791320529312941061</td>\n",
       "      <td>jenonajetplane</td>\n",
       "      <td>abigailmartiin</td>\n",
       "      <td>https://www.tiktok.com/@abigailmartiin/video/6...</td>\n",
       "      <td>6936961003221470470</td>\n",
       "      <td>High</td>\n",
       "      <td>High</td>\n",
       "    </tr>\n",
       "    <tr>\n",
       "      <th>1</th>\n",
       "      <td>https://www.tiktok.com/@6950030771592709125/vi...</td>\n",
       "      <td>7119986038134656257</td>\n",
       "      <td>6950030771592709125</td>\n",
       "      <td>freelancewithsara</td>\n",
       "      <td>lorallangemeier</td>\n",
       "      <td>https://www.tiktok.com/@lorallangemeier/video/...</td>\n",
       "      <td>7119236932516810030</td>\n",
       "      <td>Low</td>\n",
       "      <td>Medium</td>\n",
       "    </tr>\n",
       "    <tr>\n",
       "      <th>2</th>\n",
       "      <td>https://www.tiktok.com/@6895380185618940929/vi...</td>\n",
       "      <td>7079535815201787142</td>\n",
       "      <td>6895380185618940929</td>\n",
       "      <td>nomad.abroad</td>\n",
       "      <td>dynamitejobs</td>\n",
       "      <td>https://www.tiktok.com/@dynamitejobs/video/707...</td>\n",
       "      <td>7078785144257006894</td>\n",
       "      <td>High</td>\n",
       "      <td>High</td>\n",
       "    </tr>\n",
       "    <tr>\n",
       "      <th>3</th>\n",
       "      <td>https://www.tiktok.com/@7055043945923822598/vi...</td>\n",
       "      <td>7172294040971463942</td>\n",
       "      <td>7055043945923822598</td>\n",
       "      <td>theremotejob.co</td>\n",
       "      <td>tiktoktarlton</td>\n",
       "      <td>https://www.tiktok.com/@tiktoktarlton/video/71...</td>\n",
       "      <td>7164809463168290090</td>\n",
       "      <td>Low</td>\n",
       "      <td>Medium</td>\n",
       "    </tr>\n",
       "    <tr>\n",
       "      <th>4</th>\n",
       "      <td>https://www.tiktok.com/@7014977461462041606/vi...</td>\n",
       "      <td>7091837811468406059</td>\n",
       "      <td>7014977461462041606</td>\n",
       "      <td>legacy_wealth_crusade</td>\n",
       "      <td>jvrmarketing</td>\n",
       "      <td>https://www.tiktok.com/@jvrmarketing/video/709...</td>\n",
       "      <td>7091684758610201902</td>\n",
       "      <td>Medium</td>\n",
       "      <td>Medium</td>\n",
       "    </tr>\n",
       "    <tr>\n",
       "      <th>5</th>\n",
       "      <td>https://www.tiktok.com/@christabellatravels/vi...</td>\n",
       "      <td>6825424519843335429</td>\n",
       "      <td>6703793114487948293</td>\n",
       "      <td>christabellatravels</td>\n",
       "      <td>nikkibartol</td>\n",
       "      <td>https://www.tiktok.com/@nikkibartol/video/6821...</td>\n",
       "      <td>6821538705640082694</td>\n",
       "      <td>Medium</td>\n",
       "      <td>Medium</td>\n",
       "    </tr>\n",
       "    <tr>\n",
       "      <th>6</th>\n",
       "      <td>https://www.tiktok.com/@6763491224218420230/vi...</td>\n",
       "      <td>7101315402956918022</td>\n",
       "      <td>6763491224218420230</td>\n",
       "      <td>journeyintheworld</td>\n",
       "      <td>christian.grossi</td>\n",
       "      <td>https://www.tiktok.com/@christian.grossi/video...</td>\n",
       "      <td>7099555033972493614</td>\n",
       "      <td>Low</td>\n",
       "      <td>Medium</td>\n",
       "    </tr>\n",
       "    <tr>\n",
       "      <th>7</th>\n",
       "      <td>https://www.tiktok.com/@6938912195011249157/vi...</td>\n",
       "      <td>7099060568274767109</td>\n",
       "      <td>6938912195011249157</td>\n",
       "      <td>yourmarketingmentoranna</td>\n",
       "      <td>msnbc</td>\n",
       "      <td>https://www.tiktok.com/@msnbc/video/7096909768...</td>\n",
       "      <td>7096909768098434350</td>\n",
       "      <td>Low</td>\n",
       "      <td>Low</td>\n",
       "    </tr>\n",
       "    <tr>\n",
       "      <th>8</th>\n",
       "      <td>https://www.tiktok.com/@6743418378922607621/vi...</td>\n",
       "      <td>6916730184490028294</td>\n",
       "      <td>6743418378922607621</td>\n",
       "      <td>diamondthedj</td>\n",
       "      <td>belindaskou</td>\n",
       "      <td>https://www.tiktok.com/@belindaskou/video/6901...</td>\n",
       "      <td>6901137754369920261</td>\n",
       "      <td>Medium</td>\n",
       "      <td>Medium</td>\n",
       "    </tr>\n",
       "    <tr>\n",
       "      <th>9</th>\n",
       "      <td>https://www.tiktok.com/@6866418501851579398/vi...</td>\n",
       "      <td>6906533896897203461</td>\n",
       "      <td>6866418501851579398</td>\n",
       "      <td>madelynmon0</td>\n",
       "      <td>nikkifoxx</td>\n",
       "      <td>https://www.tiktok.com/@nikkifoxx/video/690431...</td>\n",
       "      <td>6904310243098938629</td>\n",
       "      <td>High</td>\n",
       "      <td>NaN</td>\n",
       "    </tr>\n",
       "  </tbody>\n",
       "</table>\n",
       "</div>"
      ],
      "text/plain": [
       "                                       duetVideoLink          duetVideoId  \\\n",
       "0  https://www.tiktok.com/@6791320529312941061/vi...  6947023689737112837   \n",
       "1  https://www.tiktok.com/@6950030771592709125/vi...  7119986038134656257   \n",
       "2  https://www.tiktok.com/@6895380185618940929/vi...  7079535815201787142   \n",
       "3  https://www.tiktok.com/@7055043945923822598/vi...  7172294040971463942   \n",
       "4  https://www.tiktok.com/@7014977461462041606/vi...  7091837811468406059   \n",
       "5  https://www.tiktok.com/@christabellatravels/vi...  6825424519843335429   \n",
       "6  https://www.tiktok.com/@6763491224218420230/vi...  7101315402956918022   \n",
       "7  https://www.tiktok.com/@6938912195011249157/vi...  7099060568274767109   \n",
       "8  https://www.tiktok.com/@6743418378922607621/vi...  6916730184490028294   \n",
       "9  https://www.tiktok.com/@6866418501851579398/vi...  6906533896897203461   \n",
       "\n",
       "          duetAuthorId             duetUniqueId  originalUniqueId  \\\n",
       "0  6791320529312941061           jenonajetplane    abigailmartiin   \n",
       "1  6950030771592709125        freelancewithsara   lorallangemeier   \n",
       "2  6895380185618940929             nomad.abroad      dynamitejobs   \n",
       "3  7055043945923822598          theremotejob.co     tiktoktarlton   \n",
       "4  7014977461462041606    legacy_wealth_crusade      jvrmarketing   \n",
       "5  6703793114487948293      christabellatravels       nikkibartol   \n",
       "6  6763491224218420230        journeyintheworld  christian.grossi   \n",
       "7  6938912195011249157  yourmarketingmentoranna             msnbc   \n",
       "8  6743418378922607621             diamondthedj       belindaskou   \n",
       "9  6866418501851579398              madelynmon0         nikkifoxx   \n",
       "\n",
       "                                   originalVideoLink      originalVideoId  \\\n",
       "0  https://www.tiktok.com/@abigailmartiin/video/6...  6936961003221470470   \n",
       "1  https://www.tiktok.com/@lorallangemeier/video/...  7119236932516810030   \n",
       "2  https://www.tiktok.com/@dynamitejobs/video/707...  7078785144257006894   \n",
       "3  https://www.tiktok.com/@tiktoktarlton/video/71...  7164809463168290090   \n",
       "4  https://www.tiktok.com/@jvrmarketing/video/709...  7091684758610201902   \n",
       "5  https://www.tiktok.com/@nikkibartol/video/6821...  6821538705640082694   \n",
       "6  https://www.tiktok.com/@christian.grossi/video...  7099555033972493614   \n",
       "7  https://www.tiktok.com/@msnbc/video/7096909768...  7096909768098434350   \n",
       "8  https://www.tiktok.com/@belindaskou/video/6901...  6901137754369920261   \n",
       "9  https://www.tiktok.com/@nikkifoxx/video/690431...  6904310243098938629   \n",
       "\n",
       "  Tier_apr Tier_jan  \n",
       "0     High     High  \n",
       "1      Low   Medium  \n",
       "2     High     High  \n",
       "3      Low   Medium  \n",
       "4   Medium   Medium  \n",
       "5   Medium   Medium  \n",
       "6      Low   Medium  \n",
       "7      Low      Low  \n",
       "8   Medium   Medium  \n",
       "9     High      NaN  "
      ]
     },
     "execution_count": 56,
     "metadata": {},
     "output_type": "execute_result"
    }
   ],
   "source": [
    "df_duets\n"
   ]
  },
  {
   "cell_type": "code",
   "execution_count": 37,
   "id": "4aaf62fd",
   "metadata": {},
   "outputs": [
    {
     "name": "stdout",
     "output_type": "stream",
     "text": [
      "Author ID: 6895380185618940929\n",
      "Signature: Immigrant 🌏 Idiot 🎩\n",
      "& author of The Spanish Nerd\n",
      "Nickname:nomad.abroad\n",
      "--------------------------------------------------\n",
      "Author ID: 6703793114487948293\n",
      "Signature: I show people how to travel the🌎while making 💸 doing work they ❤️! Sign up👇🏻\n",
      "Nickname:christabellatravels\n",
      "--------------------------------------------------\n",
      "Author ID: 6950030771592709125\n",
      "Signature: This is a dream that I have had since lunch\n",
      "Nickname:saraaawatson\n",
      "--------------------------------------------------\n",
      "Author ID: 6791320529312941061\n",
      "Signature: Solo traveler ✈️\n",
      "Award-winning author ✍️\n",
      "Change your own life through travel 🌍\n",
      "Nickname:jenonajetplane\n",
      "--------------------------------------------------\n",
      "Author ID: 6763491224218420230\n",
      "Signature: On a journey of wild explorations while travel is my business and life duty.\n",
      "Nickname:journeyintheworld\n",
      "--------------------------------------------------\n",
      "Author ID: 7055043945923822598\n",
      "Signature: Whether you’re looking for a remote job, a gig or side hustle - we got you!\n",
      "Nickname:theremotejob.co\n",
      "--------------------------------------------------\n",
      "Author ID: 6743418378922607621\n",
      "Signature: 🥜 Peanut butter & 🍇Jelly\n",
      "Except it’s #EDM & #Country\n",
      "🎶DJ/Producer\n",
      "📍Tulum, MX\n",
      "Nickname:diamondintulum\n",
      "--------------------------------------------------\n",
      "Author ID: 6938912195011249157\n",
      "Signature: Fractional CMO to founders & CEOs\n",
      "20 years building global & national brands.\n",
      "Nickname:yourmarketingmentoranna\n",
      "--------------------------------------------------\n",
      "Author ID: 7014977461462041606\n",
      "Signature: Licensed in Tax Free \n",
      "Wealth Building Strategies \n",
      "Click 👇 for free session\n",
      "Nickname:legacy_wealth_crusade\n",
      "--------------------------------------------------\n",
      "Author ID: 6866418501851579398\n",
      "Signature: cubo.to/madelyn.mon\n",
      "madelyn.collabs@gmail.com\n",
      "Nickname:madelynmon0\n",
      "--------------------------------------------------\n"
     ]
    }
   ],
   "source": [
    "#Duet creators and their signatures in the datasets\n",
    "\n",
    "# Example list of 10 authorId that engaged in duets\n",
    "duet_author_ids = [6791320529312941061,\n",
    "6950030771592709125,\n",
    "6895380185618940929,\n",
    "7055043945923822598,\n",
    "7014977461462041606,\n",
    "6703793114487948293,\n",
    "6763491224218420230,\n",
    "6938912195011249157,\n",
    "6743418378922607621,\n",
    "6866418501851579398] \n",
    "\n",
    "# Extract signatures from the DataFrame\n",
    "duet_authors_df = df_author_apr.loc[df_author_apr['authorId'].isin(duet_author_ids)]\n",
    "\n",
    "# Extract only the 'authorId' and 'signature' columns\n",
    "duet_authors_signatures = duet_authors_df[['authorId', 'signature','authorUniqueId']]\n",
    "\n",
    "# Loop through each row in the DataFrame and print authorId and signature\n",
    "for index, row in duet_authors_signatures.iterrows():\n",
    "    print(f\"Author ID: {row['authorId']}\")\n",
    "    print(f\"Signature: {row['signature']}\")\n",
    "    print (f\"Nickname:{row['authorUniqueId']}\") \n",
    "    print(\"-\" * 50)  # separator\n"
   ]
  },
  {
   "cell_type": "code",
   "execution_count": 25,
   "id": "b3450c4a",
   "metadata": {},
   "outputs": [
    {
     "name": "stdout",
     "output_type": "stream",
     "text": [
      "The authorId for nickname madelynmon0 is 6866418501851579398\n"
     ]
    }
   ],
   "source": [
    "# Suppose df_author is your DataFrame containing author details\n",
    "\n",
    "# Replace 'desired_nickname' with the nickname you're looking for\n",
    "desired_nickname = 'madelynmon0'\n",
    "\n",
    "filtered_row = df_author_apr[df_author_apr['authorUniqueId'] == desired_nickname]\n",
    "\n",
    "# Extract the 'authorId'\n",
    "author_id = filtered_row['authorId'].values[0]  # This will give you the first authorId if there are multiple matches\n",
    "\n",
    "print(f\"The authorId for nickname {desired_nickname} is {author_id}\")\n"
   ]
  },
  {
   "cell_type": "code",
   "execution_count": 30,
   "id": "46085d43",
   "metadata": {},
   "outputs": [
    {
     "name": "stdout",
     "output_type": "stream",
     "text": [
      "The authorId for nickname jenonajetplane is 6791320529312941061\n"
     ]
    }
   ],
   "source": [
    "desired_nickname = 'jenonajetplane'\n",
    "\n",
    "filtered_row = df_author_jan[df_author_jan['authorUniqueId'] == desired_nickname]\n",
    "\n",
    "# Extract the 'authorId'\n",
    "author_id = filtered_row['authorId'].values[0]  # This will give you the first authorId if there are multiple matches\n",
    "\n",
    "print(f\"The authorId for nickname {desired_nickname} is {author_id}\")\n"
   ]
  },
  {
   "cell_type": "code",
   "execution_count": null,
   "id": "ebda0948",
   "metadata": {},
   "outputs": [],
   "source": []
  }
 ],
 "metadata": {
  "kernelspec": {
   "display_name": "new_env",
   "language": "python",
   "name": "new_env"
  },
  "language_info": {
   "codemirror_mode": {
    "name": "ipython",
    "version": 3
   },
   "file_extension": ".py",
   "mimetype": "text/x-python",
   "name": "python",
   "nbconvert_exporter": "python",
   "pygments_lexer": "ipython3",
   "version": "3.7.11"
  }
 },
 "nbformat": 4,
 "nbformat_minor": 5
}
