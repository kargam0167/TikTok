{
 "cells": [
  {
   "cell_type": "code",
   "execution_count": null,
   "id": "6589bf79",
   "metadata": {},
   "outputs": [],
   "source": [
    "#Download images from link\n",
    "\n",
    "import requests\n",
    "import os\n",
    "\n",
    "# Define the directory to save images\n",
    "img_dir = \"analysis/avatars/Medium\"\n",
    "\n",
    "# Make sure this directory exists\n",
    "os.makedirs(img_dir, exist_ok=True)\n",
    "\n",
    "# Iterate over the list of dictionaries\n",
    "for i, item in enumerate(id_avatar_list_medium):\n",
    "    # Check if 'id' and 'avatarLarger' exist in the dictionary\n",
    "    if 'id' in item and 'avatarThumb' in item:\n",
    "        url = item['avatarThumb']\n",
    "        response = requests.get(url, stream=True)\n",
    "\n",
    "        # Check the status of the request\n",
    "        if response.status_code == 200:\n",
    "            # Open a file with the name of 'id' and write the image data into it\n",
    "            with open(os.path.join(img_dir, f\"{item['id']}.jpg\"), 'wb') as out_file:\n",
    "                out_file.write(response.content)\n",
    "            print(f\"Saved image {i + 1}/{len(id_avatar_list_medium)}\")\n",
    "        else:\n",
    "            print(f\"Unable to download image {i + 1}/{len(id_avatar_list_medium)}: {response.status_code}\")\n",
    "    else:\n",
    "        print(f\"Skipped image {i + 1}/{len(id_avatar_list_medium)} due to missing 'id' or 'avatarThumb'\")\n",
    "\n",
    "\n",
    "  # Pause for 5 second between requests to avoid rate limits\n",
    "    time.sleep(2)"
   ]
  }
 ],
 "metadata": {
  "kernelspec": {
   "display_name": "new_env",
   "language": "python",
   "name": "new_env"
  },
  "language_info": {
   "codemirror_mode": {
    "name": "ipython",
    "version": 3
   },
   "file_extension": ".py",
   "mimetype": "text/x-python",
   "name": "python",
   "nbconvert_exporter": "python",
   "pygments_lexer": "ipython3",
   "version": "3.7.11"
  }
 },
 "nbformat": 4,
 "nbformat_minor": 5
}
