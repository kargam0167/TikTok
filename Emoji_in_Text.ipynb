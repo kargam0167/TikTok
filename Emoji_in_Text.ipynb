{
 "cells": [
  {
   "cell_type": "code",
   "execution_count": null,
   "id": "0ea60813",
   "metadata": {},
   "outputs": [],
   "source": [
    "# create a new column with the count of emojis for each row\n",
    "unique_rows_zuil.loc[:, 'emoji_count'] = unique_rows_zuil['descProfile'].apply(lambda x: emoji.emoji_count(str(x)))\n",
    "\n",
    "# print the total count of emojis\n",
    "print(f\"Total count of emojis: {unique_rows_zuil['emoji_count'].sum()}\")\n"
   ]
  }
 ],
 "metadata": {
  "kernelspec": {
   "display_name": "new_env",
   "language": "python",
   "name": "new_env"
  },
  "language_info": {
   "codemirror_mode": {
    "name": "ipython",
    "version": 3
   },
   "file_extension": ".py",
   "mimetype": "text/x-python",
   "name": "python",
   "nbconvert_exporter": "python",
   "pygments_lexer": "ipython3",
   "version": "3.7.11"
  }
 },
 "nbformat": 4,
 "nbformat_minor": 5
}
