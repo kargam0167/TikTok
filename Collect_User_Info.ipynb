{
 "cells": [
  {
   "cell_type": "code",
   "execution_count": 34,
   "id": "32d9cd13",
   "metadata": {},
   "outputs": [
    {
     "data": {
      "text/plain": [
       "['jenonajetplane',\n",
       " 'saraaawatson',\n",
       " 'thespanishnerd',\n",
       " 'theremotejob.co',\n",
       " 'whereintheworldisnina',\n",
       " 'christabellatravels',\n",
       " 'journeyintheworld',\n",
       " 'yourmarketingmentoranna',\n",
       " 'diamondthedj',\n",
       " 'madelynmon0']"
      ]
     },
     "execution_count": 34,
     "metadata": {},
     "output_type": "execute_result"
    }
   ],
   "source": [
    "#Magic command in IPython designed for storing variables in the IPython database\n",
    "\n",
    "%store -r unique_id_list #your authorUniqueId list - uniques handles of TikTok creator profile"
   ]
  },
  {
   "cell_type": "code",
   "execution_count": 35,
   "id": "2d7d5186",
   "metadata": {},
   "outputs": [],
   "source": [
    "#Collects specific TikTok User metadata in the provided list\n",
    "\n",
    "import time\n",
    "from tikapi import TikAPI, ValidationException, ResponseException\n",
    "\n",
    "api = TikAPI(\"Your API Key\")\n",
    "\n",
    "# Initialize an empty list\n",
    "user_info_originalUniqueId = []\n",
    "\n",
    "for originalUniqueId in original_unique_id_list:\n",
    "    User = api.user(\n",
    "        accountKey=\"Your Account Key\",  \n",
    "        username=originalUniqueId\n",
    "    )\n",
    "\n",
    "    try:\n",
    "        response = User.info()\n",
    "\n",
    "        # Add the response into the list\n",
    "        user_info_originalUniqueId.append(response.json())\n",
    "\n",
    "    except ValidationException as e:\n",
    "        print(e, e.field)\n",
    "\n",
    "    except ResponseException as e:\n",
    "        print(e, e.response.status_code)\n",
    "\n",
    "    # Pause for 5 second between requests to avoid rate limits\n",
    "    time.sleep(2)\n"
   ]
  },
  {
   "cell_type": "code",
   "execution_count": 37,
   "id": "4d627868",
   "metadata": {},
   "outputs": [],
   "source": [
    "#Collects TikTok duet creator metadata\n",
    "\n",
    "api = TikAPI(\"Your API Key\")\n",
    "\n",
    "# Initialize an empty list\n",
    "user_info_duetUniqueId = []\n",
    "\n",
    "for duetUniqueId in duet_unique_id_list:\n",
    "    User = api.user(\n",
    "        accountKey=\"Your Acccount Key\",  \n",
    "        username=duetUniqueId\n",
    "    )\n",
    "\n",
    "    try:\n",
    "        response = User.info()\n",
    "\n",
    "        # Add the response into the list\n",
    "        user_info_duetUniqueId.append(response.json())\n",
    "\n",
    "    except ValidationException as e:\n",
    "        print(e, e.field)\n",
    "\n",
    "    except ResponseException as e:\n",
    "        print(e, e.response.status_code)\n",
    "\n",
    "    # Pause for 5 second between requests to avoid rate limits\n",
    "    time.sleep(2)\n"
   ]
  },
  {
   "cell_type": "code",
   "execution_count": 25,
   "id": "c5526157",
   "metadata": {},
   "outputs": [
    {
     "name": "stdout",
     "output_type": "stream",
     "text": [
      "{'stats': {'diggCount': 0,\n",
      "           'followerCount': 260900,\n",
      "           'followingCount': 277,\n",
      "           'heart': 8400000,\n",
      "           'heartCount': 8400000,\n",
      "           'videoCount': 660},\n",
      " 'user': {'avatarLarger': 'https://p16-sign-va.tiktokcdn.com/tos-maliva-avt-0068/defa9958aac52746e156b280f0264ec0~c5_1080x1080.jpeg?x-expires=1694793600&x-signature=M6UNMXTQBUWamJawB30wxWr3mBI%3D',\n",
      "          'avatarMedium': 'https://p16-sign-va.tiktokcdn.com/tos-maliva-avt-0068/defa9958aac52746e156b280f0264ec0~c5_720x720.jpeg?x-expires=1694793600&x-signature=U2Umuopqz6xjy3YhZV3Ob2asefU%3D',\n",
      "          'avatarThumb': 'https://p16-sign-va.tiktokcdn.com/tos-maliva-avt-0068/defa9958aac52746e156b280f0264ec0~c5_100x100.jpeg?x-expires=1694793600&x-signature=Ojhtk3WHXU7YvKxs6pHvq6U4JT8%3D',\n",
      "          'bioLink': {'link': 'https://jenonajetplane.com/start', 'risk': 3},\n",
      "          'canExpPlaylist': True,\n",
      "          'commentSetting': 0,\n",
      "          'commerceUserInfo': {'commerceUser': False},\n",
      "          'duetSetting': 0,\n",
      "          'followingVisibility': 1,\n",
      "          'ftc': False,\n",
      "          'id': '6791320529312941061',\n",
      "          'isADVirtual': False,\n",
      "          'isEmbedBanned': False,\n",
      "          'nickname': 'Jen Ruiz | Travel Expert',\n",
      "          'openFavorite': False,\n",
      "          'privateAccount': False,\n",
      "          'profileEmbedPermission': 1,\n",
      "          'profileTab': {'showPlayListTab': True, 'showQuestionTab': True},\n",
      "          'relation': 1,\n",
      "          'secUid': 'MS4wLjABAAAAQZ8wl8Jbg8E85hVe7NHIbO9PLw-WFxyWT5g8amEauttJC61hKGK9x2_uQ6kHH4VC',\n",
      "          'secret': False,\n",
      "          'signature': 'Lawyer turned travel blogger & author ✍️\\n'\n",
      "                       'Change your own life through travel ✈️',\n",
      "          'stitchSetting': 0,\n",
      "          'ttSeller': False,\n",
      "          'uniqueId': 'jenonajetplane',\n",
      "          'verified': False}}\n"
     ]
    }
   ],
   "source": [
    "#Pretty print the first json object of collected data\n",
    "\n",
    "from pprint import pprint\n",
    "pprint(user_info_duetUniqueId[0]['userInfo']) "
   ]
  },
  {
   "cell_type": "code",
   "execution_count": 31,
   "id": "ee61089e",
   "metadata": {},
   "outputs": [
    {
     "name": "stdout",
     "output_type": "stream",
     "text": [
      "User information: {'extra': {'fatal_item_ids': [], 'logid': '20230914113937258608250B00580DAD5F', 'now': 1694691578000}, 'log_pb': {'impr_id': '20230914113937258608250B00580DAD5F'}, 'message': '', 'shareMeta': {'desc': '@whereintheworldisnina 255.8k Followers, 658 Following, 2.3m Likes - Watch awesome short videos created by Nina | Live Around The World✈️', 'title': 'Nina | Live Around The World✈️ on TikTok'}, 'status': 'success', 'statusCode': 0, 'status_code': 0, 'userInfo': {'stats': {'diggCount': 0, 'followerCount': 255800, 'followingCount': 658, 'heart': 2300000, 'heartCount': 2300000, 'videoCount': 1007}, 'user': {'avatarLarger': 'https://p77-sign-va.tiktokcdn.com/tos-maliva-avt-0068/523d53203aaf1b65a4a59c6e00b0780f~c5_1080x1080.jpeg?x-expires=1694862000&x-signature=bBN5PwLNxll%2F3ToeoQ7E7WwJ0Dw%3D', 'avatarMedium': 'https://p77-sign-va.tiktokcdn.com/tos-maliva-avt-0068/523d53203aaf1b65a4a59c6e00b0780f~c5_720x720.jpeg?x-expires=1694862000&x-signature=%2Bnjd0H%2FECT%2B1vGR%2BoCdMY8vbvyg%3D', 'avatarThumb': 'https://p77-sign-va.tiktokcdn.com/tos-maliva-avt-0068/523d53203aaf1b65a4a59c6e00b0780f~c5_100x100.jpeg?x-expires=1694862000&x-signature=BW%2BlPaLwlbUiOUgFkBpUbOJJ%2FT8%3D', 'bioLink': {'link': 'https://whereintheworldisnina.com/tik-tok', 'risk': 3}, 'canExpPlaylist': True, 'commentSetting': 0, 'commerceUserInfo': {'commerceUser': False}, 'duetSetting': 0, 'followingVisibility': 1, 'ftc': False, 'id': '6715997979167933446', 'isADVirtual': False, 'isEmbedBanned': False, 'nickname': 'Nina | Live Around The World✈️', 'openFavorite': False, 'privateAccount': False, 'profileEmbedPermission': 1, 'profileTab': {'showPlayListTab': True, 'showQuestionTab': True}, 'relation': 1, 'secUid': 'MS4wLjABAAAAyEadW68oK0u3LxIH2ociUbFY0l7eYnpZ-W2hRIyK95rT4uwFW8l-kRIlRG-dokQB', 'secret': False, 'signature': 'I help you live, work and travel around the world\\n✈️ FREE travel longer guide ⬇️', 'stitchSetting': 0, 'ttSeller': False, 'uniqueId': 'whereintheworldisnina', 'verified': True}}}\n"
     ]
    }
   ],
   "source": [
    "#Get Specific User Info\n",
    "\n",
    "from tikapi import TikAPI, ValidationException, ResponseException\n",
    "\n",
    "api = TikAPI(\"Your API Key\")\n",
    "\n",
    "# The username of the user whose information you want to fetch\n",
    "username = 'authorUniqueId' #put the authorUniqueId of your interest\n",
    "\n",
    "try:\n",
    "    # Fetch user information\n",
    "    User = api.user(\n",
    "        accountKey=\"Your Account Key\",\n",
    "        username=username\n",
    "    )\n",
    "    \n",
    "    response = User.info()\n",
    "    user_info = response.json()\n",
    "    \n",
    "    print(\"User information:\", user_info)\n",
    "\n",
    "except ValidationException as e:\n",
    "    print(e, e.field)\n",
    "\n",
    "except ResponseException as e:\n",
    "    print(e, e.response.status_code)\n"
   ]
  }
 ],
 "metadata": {
  "kernelspec": {
   "display_name": "new_env",
   "language": "python",
   "name": "new_env"
  },
  "language_info": {
   "codemirror_mode": {
    "name": "ipython",
    "version": 3
   },
   "file_extension": ".py",
   "mimetype": "text/x-python",
   "name": "python",
   "nbconvert_exporter": "python",
   "pygments_lexer": "ipython3",
   "version": "3.7.11"
  }
 },
 "nbformat": 4,
 "nbformat_minor": 5
}
