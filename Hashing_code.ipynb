{
 "cells": [
  {
   "cell_type": "code",
   "execution_count": null,
   "id": "87cb296c",
   "metadata": {},
   "outputs": [],
   "source": [
    "import pandas as pd\n",
    "\n",
    "# Define the columns you want to select\n",
    "columns_to_select = [\n",
    "    'dateTime', \n",
    "    'authorId', \n",
    "    'videoId',  \n",
    "    'desc', \n",
    "    'hashtagNames', \n",
    "    'stickersText'\n",
    "]\n",
    "\n",
    "try:\n",
    "    # Load the dataset from the specified path\n",
    "    dataset = pd.read_csv('../your_dataset.csv')\n",
    "\n",
    "    # Select the specified columns from the dataset\n",
    "    # .copy() is used to prevent a SettingWithCopyWarning in pandas\n",
    "    selected_data = dataset[columns_to_select].copy()\n",
    "\n",
    "    # Display the first few rows of the new DataFrame\n",
    "    print(\"Successfully selected the following columns:\")\n",
    "    print(selected_data.head())\n",
    "\n",
    "except FileNotFoundError:\n",
    "    print(\"Error: The file '../your_dataset.csv' was not found.\")\n",
    "except KeyError as e:\n",
    "    print(f\"Error: A specified column was not found in the CSV file: {e}\")\n",
    "\n"
   ]
  },
  {
   "cell_type": "code",
   "execution_count": null,
   "id": "7d76b812",
   "metadata": {},
   "outputs": [],
   "source": [
    "import os\n",
    "from dotenv import load_dotenv\n",
    "\n",
    "load_dotenv(dotenv_path='/your_path/.env')\n",
    "print(os.getenv('SALT_KEY'))\n",
    "\n"
   ]
  },
  {
   "cell_type": "code",
   "execution_count": null,
   "id": "746779f1",
   "metadata": {},
   "outputs": [],
   "source": [
    "import hashlib\n",
    "import os\n",
    "from dotenv import load_dotenv\n",
    "\n",
    "# Load environment variables from .env file (defaults to current directory)\n",
    "load_dotenv()  # Optionally add: dotenv_path='/absolute/path/to/.env' if not in script folder\n",
    "\n",
    "SALT = os.getenv('SALT_KEY')\n",
    "if not SALT:\n",
    "    raise ValueError(\"Error: SALT_KEY not found in .env file.\")\n",
    "\n",
    "def hash_with_salt(value_to_hash, salt):\n",
    "    \"\"\"\n",
    "    Hashes a given value with a salt using the SHA-256 algorithm.\n",
    "    \"\"\"\n",
    "    # Combine the value and the salt, then encode to bytes\n",
    "    salted_value = str(value_to_hash) + salt\n",
    "    hasher = hashlib.sha256()\n",
    "    hasher.update(salted_value.encode('utf-8'))\n",
    "    return hasher.hexdigest()\n",
    "\n",
    "# Assuming 'selected_data' DataFrame exists from the previous step\n",
    "if 'selected_data' in locals():\n",
    "    selected_data['hashed_authorId'] = selected_data['authorId'].apply(lambda x: hash_with_salt(x, SALT))\n",
    "    selected_data['hashed_videoId'] = selected_data['videoId'].apply(lambda x: hash_with_salt(x, SALT))\n",
    "    print(\"\\nDataFrame with Hashed IDs:\")\n",
    "    print(selected_data[['authorId', 'hashed_authorId', 'videoId', 'hashed_videoId']].head())\n"
   ]
  },
  {
   "cell_type": "code",
   "execution_count": null,
   "id": "5fb0ebdf",
   "metadata": {},
   "outputs": [],
   "source": [
    "# Save key pairing to 'DataFrame with Hashed IDs.csv'\n",
    "selected_data[['authorId', 'hashed_authorId', 'videoId', 'hashed_videoId']].to_csv(\n",
    "    'Hashed_IDs.csv',\n",
    "    index=False\n",
    ")\n"
   ]
  },
  {
   "cell_type": "code",
   "execution_count": null,
   "id": "95b11c21",
   "metadata": {},
   "outputs": [],
   "source": [
    "fields_to_export = ['hashed_videoId', 'hashed_authorId', 'dateTime', 'desc', 'hashtagNames', 'stickersText']\n",
    "\n",
    "# Save dataset to 'DataSet_Hashed.csv'\n",
    "selected_data[fields_to_export].to_csv(\n",
    "    'DataSet_Hashed.csv',\n",
    "    index=False\n",
    ")\n"
   ]
  }
 ],
 "metadata": {
  "kernelspec": {
   "display_name": "graph-tool",
   "language": "python",
   "name": "graph-tool"
  },
  "language_info": {
   "codemirror_mode": {
    "name": "ipython",
    "version": 3
   },
   "file_extension": ".py",
   "mimetype": "text/x-python",
   "name": "python",
   "nbconvert_exporter": "python",
   "pygments_lexer": "ipython3",
   "version": "3.9.21"
  }
 },
 "nbformat": 4,
 "nbformat_minor": 5
}
