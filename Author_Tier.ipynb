{
 "cells": [
  {
   "cell_type": "code",
   "execution_count": 17,
   "id": "c365cc9b",
   "metadata": {},
   "outputs": [
    {
     "name": "stdout",
     "output_type": "stream",
     "text": [
      "              authorId   authorUniqueId  \\\n",
      "0  6755279996182348805    habloconpabl0   \n",
      "1  7008216250564805637  alitravelsbroke   \n",
      "2  6747770185614312453     kristinacors   \n",
      "3  6764845416200307717      dashakofman   \n",
      "4  7175147257800639494        paniluiza   \n",
      "\n",
      "                                        avatarLarger  authorDiggCount  \\\n",
      "0  https://p16-sign.tiktokcdn-us.com/tos-useast5-...            21000   \n",
      "1  https://p16-sign-va.tiktokcdn.com/tos-maliva-a...             1937   \n",
      "2  https://p16-sign-va.tiktokcdn.com/musically-ma...            10300   \n",
      "3  https://p16-sign.tiktokcdn-us.com/tos-useast5-...             1395   \n",
      "4  https://p16-sign-va.tiktokcdn.com/tos-maliva-a...               58   \n",
      "\n",
      "   authorFollowerCount  authorFollowingCount  authorVideoCount  \\\n",
      "0                 5970                   517               249   \n",
      "1               167100                   151               212   \n",
      "2               765600                  1118               952   \n",
      "3                45500                   173               573   \n",
      "4                38800                    44                89   \n",
      "\n",
      "   authorHeartCount  commentSetting  downloadSetting  ...  \\\n",
      "0           2700000               0                3  ...   \n",
      "1           8600000               0                0  ...   \n",
      "2          16900000               0                0  ...   \n",
      "3           3200000               0                0  ...   \n",
      "4            887700               0                0  ...   \n",
      "\n",
      "                        nickname  openFavorite  privateAccount  relation  \\\n",
      "0                          Pablo         False           False         0   \n",
      "1    Ali | Solo & Budget Travel🌍         False           False         0   \n",
      "2   Travel Hacks - Kristina Cors         False           False         0   \n",
      "3                 Dasha | Travel         False           False         0   \n",
      "4  Luiza✈️Your Travel Guide 2023         False           False         0   \n",
      "\n",
      "                                              secUid  secret  \\\n",
      "0  MS4wLjABAAAARAd777C2L5_Mh-tL4_8uOIcDEbDNkjDo7A...   False   \n",
      "1  MS4wLjABAAAA4Vd_ArVdz-dfzSt8LPW-TetUe_aP5cRvGP...   False   \n",
      "2  MS4wLjABAAAASAc7krCw2bSUQ67ojYK7dT6geddOqEb8pi...   False   \n",
      "3  MS4wLjABAAAAvOpoyZKmaOjSge8D2N8z_1lQpivgY-xNJ3...   False   \n",
      "4  MS4wLjABAAAADtMmwMM40uMOSLeZaCwymOXxDX8X_13VKp...   False   \n",
      "\n",
      "                                           signature  stitchSetting ttSeller  \\\n",
      "0  Estadounidense viviendo en Madriz\\nI hate Madr...              0    False   \n",
      "1  Hi, I’m Ali🌈\\n🌸I help people travel cheap\\n👇🏼g...              0    False   \n",
      "2  Digital Nomad w/ Remote Work Tips\\nHow You Can...              0    False   \n",
      "3  🚀🗺️✨🌍🫶\\nmy digital travel diary\\ntips, inspo a...              0    False   \n",
      "4  💙Best Travel Destinations for 2023💙\\nMy travel...              0    False   \n",
      "\n",
      "   verified  \n",
      "0     False  \n",
      "1     False  \n",
      "2     False  \n",
      "3     False  \n",
      "4     False  \n",
      "\n",
      "[5 rows x 24 columns]\n",
      "              authorId authorUniqueId  \\\n",
      "0  7008216250564805637   alitraveling   \n",
      "1  6683978821923881989  isabellamjohn   \n",
      "2  6747770185614312453   kristinacors   \n",
      "3  6764845416200307717    dashakofman   \n",
      "4  7175147257800639494      paniluiza   \n",
      "\n",
      "                                        avatarLarger  \\\n",
      "0  https://p16-sign-va.tiktokcdn.com/tos-maliva-a...   \n",
      "1  https://p16-sign-va.tiktokcdn.com/tos-maliva-a...   \n",
      "2  https://p16-sign-va.tiktokcdn.com/musically-ma...   \n",
      "3  https://p16-sign-va.tiktokcdn.com/tos-maliva-a...   \n",
      "4  https://p16-sign-va.tiktokcdn.com/tos-maliva-a...   \n",
      "\n",
      "                                        avatarMedium  \\\n",
      "0  https://p16-sign-va.tiktokcdn.com/tos-maliva-a...   \n",
      "1  https://p16-sign-va.tiktokcdn.com/tos-maliva-a...   \n",
      "2  https://p16-sign-va.tiktokcdn.com/musically-ma...   \n",
      "3  https://p16-sign-va.tiktokcdn.com/tos-maliva-a...   \n",
      "4  https://p16-sign-va.tiktokcdn.com/tos-maliva-a...   \n",
      "\n",
      "                                         avatarThumb  authorDiggCount  \\\n",
      "0  https://p16-sign-va.tiktokcdn.com/tos-maliva-a...             1985   \n",
      "1  https://p16-sign-va.tiktokcdn.com/tos-maliva-a...            24800   \n",
      "2  https://p16-sign-va.tiktokcdn.com/musically-ma...            11000   \n",
      "3  https://p16-sign-va.tiktokcdn.com/tos-maliva-a...             1396   \n",
      "4  https://p16-sign-va.tiktokcdn.com/tos-maliva-a...               76   \n",
      "\n",
      "   authorFollowerCount  authorFollowingCount  authorHeartCount  \\\n",
      "0               168100                   150           9000000   \n",
      "1               152200                   304           4400000   \n",
      "2               764000                  1255          17600000   \n",
      "3                57500                   197           3900000   \n",
      "4                50500                    70           1200000   \n",
      "\n",
      "   authorVideoCount  ...                       nickname  openFavorite  \\\n",
      "0               132  ...     Ali | Solo + Budget Travel         False   \n",
      "1               224  ...                          bella         False   \n",
      "2               995  ...   Travel Hacks - Kristina Cors         False   \n",
      "3               628  ...                 Dasha | Travel         False   \n",
      "4               176  ...  Luiza✈️Your Travel Guide 2023         False   \n",
      "\n",
      "   privateAccount  relation  \\\n",
      "0           False         0   \n",
      "1           False         0   \n",
      "2           False         0   \n",
      "3           False         0   \n",
      "4           False         0   \n",
      "\n",
      "                                              secUid secret  \\\n",
      "0  MS4wLjABAAAA4Vd_ArVdz-dfzSt8LPW-TetUe_aP5cRvGP...  False   \n",
      "1  MS4wLjABAAAAqYNy_amN2KZQACa_M7O4YXv3UDlkgpVSMJ...  False   \n",
      "2  MS4wLjABAAAASAc7krCw2bSUQ67ojYK7dT6geddOqEb8pi...  False   \n",
      "3  MS4wLjABAAAAvOpoyZKmaOjSge8D2N8z_1lQpivgY-xNJ3...  False   \n",
      "4  MS4wLjABAAAADtMmwMM40uMOSLeZaCwymOXxDX8X_13VKp...  False   \n",
      "\n",
      "                                           signature  stitchSetting  ttSeller  \\\n",
      "0  Hi, I’m Ali🌈\\n🧚‍♀️I share solo + budget travel...              0     False   \n",
      "1  traveling with my 9-5 \\n💌 isabellamajohn@gmail...              0     False   \n",
      "2  Digital Nomad w/ Remote Work Tips\\nHow You Can...              0     False   \n",
      "3  ✨🌍\\nhi, im dasha \\ntraveling the world with a ...              0     False   \n",
      "4  💙Best Travel Destinations for 2023💙\\nMy travel...              0     False   \n",
      "\n",
      "  verified  \n",
      "0    False  \n",
      "1    False  \n",
      "2    False  \n",
      "3    False  \n",
      "4    False  \n",
      "\n",
      "[5 rows x 25 columns]\n"
     ]
    }
   ],
   "source": [
    "import pandas as pd\n",
    "\n",
    "# Load the csv file into a pandas dataframe\n",
    "df_author_jan = pd.read_csv('Author_df_jan.csv')\n",
    "df_author_apr = pd.read_csv('Author_df_apr.csv')\n",
    "\n",
    "# Display the first few rows of the dataframe\n",
    "print(df_author_jan.head())\n",
    "print(df_author_apr.head())"
   ]
  },
  {
   "cell_type": "code",
   "execution_count": 18,
   "id": "f8aa0830",
   "metadata": {},
   "outputs": [],
   "source": [
    "# Calculating 'Reach' metric for two datasets\n",
    "\n",
    "df_author_jan['authorReach'] = df_author_jan['authorFollowerCount'] + df_author_jan['authorHeartCount'] + df_author_jan['authorVideoCount']\n",
    "\n",
    "df_author_apr['authorReach'] = df_author_apr['authorFollowerCount'] + df_author_apr['authorHeartCount'] + df_author_apr['authorVideoCount']\n"
   ]
  },
  {
   "cell_type": "code",
   "execution_count": 14,
   "id": "acb6fa1a",
   "metadata": {},
   "outputs": [
    {
     "data": {
      "text/plain": [
       "355"
      ]
     },
     "execution_count": 14,
     "metadata": {},
     "output_type": "execute_result"
    }
   ],
   "source": [
    "#identifying the outliers in JAN dataset using the IQR method \n",
    "\n",
    "Q1 = df_author_jan['authorReach'].quantile(0.25)\n",
    "Q3 = df_author_jan['authorReach'].quantile(0.75)\n",
    "IQR = Q3 - Q1\n",
    "\n",
    "# Define bounds for the outliers\n",
    "lower_bound = Q1 - 1.5 * IQR\n",
    "upper_bound = Q3 + 1.5 * IQR\n",
    "\n",
    "# Identify outliers\n",
    "outliers = df_author_jan[(df_author_jan['authorReach'] < lower_bound) | (df_author_jan['authorReach'] > upper_bound)]\n",
    "\n",
    "len(outliers)"
   ]
  },
  {
   "cell_type": "code",
   "execution_count": 19,
   "id": "8c183c5f",
   "metadata": {},
   "outputs": [
    {
     "data": {
      "text/plain": [
       "447"
      ]
     },
     "execution_count": 19,
     "metadata": {},
     "output_type": "execute_result"
    }
   ],
   "source": [
    "#identifying the outliers in APR dataset using the IQR method \n",
    "\n",
    "Q1 = df_author_apr['authorReach'].quantile(0.25)\n",
    "Q3 = df_author_apr['authorReach'].quantile(0.75)\n",
    "IQR = Q3 - Q1\n",
    "\n",
    "# Define bounds for the outliers\n",
    "lower_bound = Q1 - 1.5 * IQR\n",
    "upper_bound = Q3 + 1.5 * IQR\n",
    "\n",
    "# Identify outliers\n",
    "outliers = df_author_apr[(df_author_apr['authorReach'] < lower_bound) | (df_author_apr['authorReach'] > upper_bound)]\n",
    "\n",
    "len(outliers)"
   ]
  },
  {
   "cell_type": "code",
   "execution_count": 20,
   "id": "f00e9bf4",
   "metadata": {},
   "outputs": [],
   "source": [
    "#cap the values at the upper bound calculated with the IQR method\n",
    "\n",
    "df_author_jan['authorReach'] = df_author_jan['authorReach'].clip(upper=upper_bound)\n",
    "df_author_apr['authorReach'] = df_author_apr['authorReach'].clip(upper=upper_bound)"
   ]
  },
  {
   "cell_type": "code",
   "execution_count": 21,
   "id": "9b993908",
   "metadata": {},
   "outputs": [],
   "source": [
    "# Define the boundaries for each tier\n",
    "bins = [0, 10000, 100000, float('inf')]\n",
    "\n",
    "# Define the labels for each tier\n",
    "labels = ['Low', 'Medium', 'High']\n",
    "\n",
    "# Create a new column called 'PopularityTier'\n",
    "df_author_jan['PopularityTier'] = pd.cut(df_author_jan['authorReach'], bins=bins, labels=labels)\n",
    "df_author_apr['PopularityTier'] = pd.cut(df_author_apr['authorReach'], bins=bins, labels=labels)"
   ]
  },
  {
   "cell_type": "code",
   "execution_count": null,
   "id": "c86c1021",
   "metadata": {},
   "outputs": [],
   "source": []
  },
  {
   "cell_type": "code",
   "execution_count": 23,
   "id": "3500cb2a",
   "metadata": {},
   "outputs": [
    {
     "data": {
      "image/png": "[encoded data removed]",
      "text/plain": [
       "<Figure size 436.875x360 with 1 Axes>"
      ]
     },
     "metadata": {
      "needs_background": "light"
     },
     "output_type": "display_data"
    },
    {
     "data": {
      "image/png": "[encoded data removed]",
      "text/plain": [
       "<Figure size 436.875x360 with 1 Axes>"
      ]
     },
     "metadata": {
      "needs_background": "light"
     },
     "output_type": "display_data"
    }
   ],
   "source": [
    "#Visualizing tier - distribution of the data frame\n",
    "\n",
    "import seaborn as sns\n",
    "import matplotlib.pyplot as plt\n",
    "\n",
    "# Plot for January\n",
    "sns.displot(df_author_jan, x='authorReach', hue='PopularityTier', multiple='stack')\n",
    "plt.title('January Tiers')\n",
    "plt.xlim([0, 200000])\n",
    "plt.show()\n",
    "\n",
    "# Plot for April\n",
    "sns.displot(df_author_apr, x='authorReach', hue='PopularityTier', multiple='stack')\n",
    "plt.title('April Tiers')\n",
    "plt.xlim([0, 200000])\n",
    "plt.show()\n",
    "\n"
   ]
  },
  {
   "cell_type": "code",
   "execution_count": null,
   "id": "145ca8ec",
   "metadata": {},
   "outputs": [],
   "source": [
    "# Convert output of describe() to a dataframe for 'authorFollowerCount_jan'\n",
    "stats_jan = df_merged_all['authorFollowerCount_jan'].describe().reset_index()\n",
    "stats_jan.columns = ['Statistic', 'Value']\n",
    "stats_jan['Value'] = stats_jan['Value'].map('{:,.0f}'.format)\n",
    "\n",
    "# Convert output of describe() to a dataframe for 'authorFollowerCount_apr'\n",
    "stats_apr = df_merged_all['authorFollowerCount_apr'].describe().reset_index()\n",
    "stats_apr.columns = ['Statistic', 'Value']\n",
    "stats_apr['Value'] = stats_apr['Value'].map('{:,.0f}'.format)\n",
    "\n",
    "# Print the formatted statistics\n",
    "print('January:')\n",
    "print(stats_jan)\n",
    "print('April:')\n",
    "print(stats_apr)"
   ]
  },
  {
   "cell_type": "code",
   "execution_count": null,
   "id": "1f5695d1",
   "metadata": {},
   "outputs": [],
   "source": [
    "# Count the number of 'authorId' in each tier\n",
    "tier_counts_jan = df_merged_all['tier_jan'].value_counts()\n",
    "tier_counts_apr = df_merged_all['tier_apr'].value_counts()\n",
    "\n",
    "# Create a bar plot\n",
    "plt.figure(figsize=(10,6))\n",
    "ax = tier_counts_jan.sort_index().plot(kind='bar', color='skyblue', width=0.4, position=1, label='Jan')\n",
    "tier_counts_apr.sort_index().plot(kind='bar', color='red', width=0.4, position=0, label='Apr', ax=ax)\n",
    "\n",
    "# Add a title and labels\n",
    "plt.xlabel('Tier')\n",
    "plt.ylabel('Number of Authors')\n",
    "plt.title('Number of Authors in Each Tier')\n",
    "\n",
    "# Display the counts above the bars\n",
    "for i, v in enumerate(tier_counts_jan.sort_index().values):\n",
    "    plt.text(i-0.1, v, str(v), color='black', ha='center', va='bottom', fontweight='bold')\n",
    "\n",
    "for i, v in enumerate(tier_counts_apr.sort_index().values):\n",
    "    plt.text(i+0.1, v, str(v), color='black', ha='center', va='bottom', fontweight='bold')\n",
    "\n",
    "plt.legend()\n",
    "# Show the plot\n",
    "plt.show()\n"
   ]
  },
  {
   "cell_type": "code",
   "execution_count": null,
   "id": "493f8f30",
   "metadata": {},
   "outputs": [],
   "source": [
    "#sample the same number of rows from each tier in both 'tier_jan' and 'tier_apr\n",
    "\n",
    "n_samples = 40  # adjust this as needed\n",
    "\n",
    "# Sample from tier_jan\n",
    "sample_jan = df_merged_all.groupby('tier_jan').apply(lambda x: x.sample(n_samples) if len(x) > n_samples else x)\n",
    "\n",
    "# Sample from tier_apr\n",
    "sample_apr = df_merged_all.groupby('tier_apr').apply(lambda x: x.sample(n_samples) if len(x) > n_samples else x)\n",
    "\n",
    "# Reset the index\n",
    "sample_jan.reset_index(drop=True, inplace=True)\n",
    "sample_apr.reset_index(drop=True, inplace=True)\n",
    "\n",
    "# Add a new column 'sample_origin' to denote the origin of the sample\n",
    "sample_jan['sample_origin'] = 'jan'\n",
    "sample_apr['sample_origin'] = 'apr'\n",
    "\n",
    "# Now concatenate the two samples into a total sample\n",
    "total_sample = pd.concat([sample_jan, sample_apr], ignore_index=True)\n"
   ]
  }
 ],
 "metadata": {
  "kernelspec": {
   "display_name": "new_env",
   "language": "python",
   "name": "new_env"
  },
  "language_info": {
   "codemirror_mode": {
    "name": "ipython",
    "version": 3
   },
   "file_extension": ".py",
   "mimetype": "text/x-python",
   "name": "python",
   "nbconvert_exporter": "python",
   "pygments_lexer": "ipython3",
   "version": "3.7.11"
  }
 },
 "nbformat": 4,
 "nbformat_minor": 5
}
