{
 "cells": [
  {
   "cell_type": "code",
   "execution_count": 4,
   "id": "485d143d",
   "metadata": {},
   "outputs": [
    {
     "name": "stdout",
     "output_type": "stream",
     "text": [
      "              authorId                                          signature  \\\n",
      "0  6755279996182348805  Estadounidense viviendo en Madriz\\nI hate Madr...   \n",
      "1  7008216250564805637  Hi, I’m Ali🌈\\n🌸I help people travel cheap\\n👇🏼g...   \n",
      "2  6747770185614312453  Digital Nomad w/ Remote Work Tips\\nHow You Can...   \n",
      "3  6764845416200307717  🚀🗺️✨🌍🫶\\nmy digital travel diary\\ntips, inspo a...   \n",
      "4  7175147257800639494  💙Best Travel Destinations for 2023💙\\nMy travel...   \n",
      "\n",
      "                                         descProfile month   tier_jan  \\\n",
      "0  Chueca es genial 😭 #madridgay #madridgaylife #...   Jan     medium   \n",
      "1  Driving in morocco & seeing a tree full of goa...   Jan  very high   \n",
      "2  This country will basically PAY tourists to vi...   Jan  very high   \n",
      "3  secret spots in london, pt. one #londontravelg...   Jan       high   \n",
      "4  I found travel gem in Germany, second Venice i...   Jan       high   \n",
      "\n",
      "    tier_apr  hdbscan  \n",
      "0     medium       -1  \n",
      "1  very high        0  \n",
      "2  very high       -1  \n",
      "3       high       -1  \n",
      "4       high       -1  \n",
      "              authorId                                          signature  \\\n",
      "0  6755279996182348805  Estadounidense viviendo en Madriz\\nI hate Madr...   \n",
      "1  7008216250564805637  Hi, I’m Ali🌈\\n🌸I help people travel cheap\\n👇🏼g...   \n",
      "2  6747770185614312453  Digital Nomad w/ Remote Work Tips\\nHow You Can...   \n",
      "3  6764845416200307717  🚀🗺️✨🌍🫶\\nmy digital travel diary\\ntips, inspo a...   \n",
      "4  7175147257800639494  💙Best Travel Destinations for 2023💙\\nMy travel...   \n",
      "\n",
      "                                         descProfile month   tier_jan  \\\n",
      "0  Chueca es genial 😭 #madridgay #madridgaylife #...   Jan     medium   \n",
      "1  Driving in morocco & seeing a tree full of goa...   Jan  very high   \n",
      "2  This country will basically PAY tourists to vi...   Jan  very high   \n",
      "3  secret spots in london, pt. one #londontravelg...   Jan       high   \n",
      "4  I found travel gem in Germany, second Venice i...   Jan       high   \n",
      "\n",
      "    tier_apr  hdbscan  \n",
      "0     medium        0  \n",
      "1  very high        0  \n",
      "2  very high        0  \n",
      "3       high        0  \n",
      "4       high        0  \n"
     ]
    },
    {
     "data": {
      "text/plain": [
       "3714"
      ]
     },
     "execution_count": 4,
     "metadata": {},
     "output_type": "execute_result"
    }
   ],
   "source": [
    "#Clusters for profile descriptions\n",
    "\n",
    "import pandas as pd\n",
    "\n",
    "# Load your data\n",
    "df_descriptions = pd.read_csv('analysis/desc.csv')\n",
    "df_signatures = pd.read_csv('analysis/sig.csv')\n",
    "\n",
    "# Display the first few rows\n",
    "print(df_descriptions.head())\n",
    "print(df_signatures.head())\n"
   ]
  },
  {
   "cell_type": "code",
   "execution_count": 5,
   "id": "0b87035b",
   "metadata": {},
   "outputs": [],
   "source": [
    "# renaming 'hdbscan' columns\n",
    "df_signatures.rename(columns={'hdbscan':'hdbscan_sig'}, inplace=True)\n",
    "df_descriptions.rename(columns={'hdbscan':'hdbscan_desc'}, inplace=True)\n",
    "\n",
    "# merging two dataframes\n",
    "df_with_cluster = pd.merge(df_signatures, df_descriptions, on=list(set(df_signatures.columns) & set(df_descriptions.columns)))\n",
    "\n"
   ]
  },
  {
   "cell_type": "code",
   "execution_count": 6,
   "id": "7b8a5129",
   "metadata": {},
   "outputs": [
    {
     "name": "stdout",
     "output_type": "stream",
     "text": [
      "   hdbscan_sig   tier_jan  counts\n",
      "0            0       high     884\n",
      "1            0        low     976\n",
      "2            0     medium     919\n",
      "3            0  very high     870\n",
      "4            1       high      12\n",
      "5            1        low      26\n",
      "6            1     medium      23\n",
      "7            1  very high       4\n"
     ]
    }
   ],
   "source": [
    "# Count the number of each tier in each cluster\n",
    "cluster_tier_counts = df_with_cluster.groupby(['hdbscan_sig', 'tier_jan']).size().reset_index(name='counts')\n",
    "\n",
    "# Display the counts\n",
    "print(cluster_tier_counts)\n"
   ]
  },
  {
   "cell_type": "code",
   "execution_count": 29,
   "id": "eb3e6209",
   "metadata": {},
   "outputs": [
    {
     "name": "stdout",
     "output_type": "stream",
     "text": [
      "     hdbscan   tier_jan   tier_apr  count\n",
      "3         -1        low        low    276\n",
      "6         -1     medium     medium    247\n",
      "0         -1       high       high    238\n",
      "7         -1  very high  very high    226\n",
      "10         0        low        low    104\n",
      "..       ...        ...        ...    ...\n",
      "194       35        low     medium      1\n",
      "203       37     medium       high      1\n",
      "276       54     medium     medium      1\n",
      "240       46     medium       high      1\n",
      "323       65  very high  very high      1\n",
      "\n",
      "[324 rows x 4 columns]\n"
     ]
    }
   ],
   "source": [
    "#Do tier members tend to stick together in the same cluster\n",
    "\n",
    "# Group by 'cluster', 'tier_jan', 'tier_apr' and count 'authorId's\n",
    "cluster_tier_counts = df.groupby(['hdbscan', 'tier_jan', 'tier_apr'])['authorId'].count().reset_index(name='count')\n",
    "\n",
    "# Sort by 'count' in descending order\n",
    "cluster_tier_counts = cluster_tier_counts.sort_values('count', ascending=False)\n",
    "\n",
    "# Display the sorted DataFrame\n",
    "print(cluster_tier_counts)\n"
   ]
  },
  {
   "cell_type": "code",
   "execution_count": 30,
   "id": "78562340",
   "metadata": {},
   "outputs": [
    {
     "name": "stdout",
     "output_type": "stream",
     "text": [
      "     hdbscan  tier_changed  count\n",
      "0         -1         False    987\n",
      "1         -1          True     72\n",
      "2          0         False    328\n",
      "3          0          True     21\n",
      "4          1         False    128\n",
      "..       ...           ...    ...\n",
      "103       62         False     16\n",
      "104       63         False     14\n",
      "105       63          True      2\n",
      "106       64         False     16\n",
      "107       65         False     15\n",
      "\n",
      "[108 rows x 3 columns]\n"
     ]
    }
   ],
   "source": [
    "# Add a new column indicating whether 'tier_jan' is different from 'tier_apr'\n",
    "df['tier_changed'] = df['tier_jan'] != df['tier_apr']\n",
    "\n",
    "# Group by 'cluster', 'tier_changed' and count 'authorId's\n",
    "cluster_tier_change_counts = df.groupby(['hdbscan', 'tier_changed'])['authorId'].count().reset_index(name='count')\n",
    "\n",
    "# Display the DataFrame\n",
    "print(cluster_tier_change_counts)\n"
   ]
  },
  {
   "cell_type": "code",
   "execution_count": 55,
   "id": "f7a2dfda",
   "metadata": {},
   "outputs": [
    {
     "data": {
      "image/png": "[encoded data removed]",
      "text/plain": [
       "<Figure size 1000x600 with 1 Axes>"
      ]
     },
     "metadata": {},
     "output_type": "display_data"
    }
   ],
   "source": [
    "#Creating a plot answering question: \n",
    "import numpy as np\n",
    "import matplotlib.pyplot as plt\n",
    "import seaborn as sns\n",
    "\n",
    "# Add 'tier_change' column\n",
    "df['tier_change'] = np.where(df['tier_jan'] == df['tier_apr'], 'Same', 'Different')\n",
    "\n",
    "# Filter out '-1' clusters\n",
    "df_filtered = df[df['hdbscan'] != -1]\n",
    "\n",
    "# Group by 'cluster' and 'tier_change' and get counts\n",
    "counts = df_filtered.groupby(['hdbscan', 'tier_change'])['authorId'].count().reset_index()\n",
    "\n",
    "# Get top 20 clusters for 'Same' and 'Different' tier changes\n",
    "top_same_clusters = counts[counts['tier_change'] == 'Same'].sort_values(by='authorId', ascending=False)[:20]['hdbscan'].values\n",
    "top_diff_clusters = counts[counts['tier_change'] == 'Different'].sort_values(by='authorId', ascending=False)[:20]['hdbscan'].values\n",
    "\n",
    "# Get intersection of top clusters\n",
    "top_clusters = list(set(top_same_clusters).intersection(top_diff_clusters))\n",
    "\n",
    "# Filter 'counts' for only 'top_clusters'\n",
    "counts = counts[counts['hdbscan'].isin(top_clusters)]\n",
    "\n",
    "plt.figure(figsize=(10,6))\n",
    "bar_plot = sns.barplot(x='hdbscan', y='authorId', hue='tier_change', data=counts)\n",
    "plt.title('Number of authorId with Same/Different tier_jan and tier_apr per Cluster (Top Clusters)')\n",
    "plt.xlabel('Cluster')\n",
    "plt.ylabel('Count')\n",
    "plt.xticks(rotation=90)  # Rotate x-axis labels for better readability\n",
    "plt.legend(title='Tier Change')\n",
    "\n",
    "# Add labels to the top of the bars\n",
    "for p in bar_plot.patches:\n",
    "    bar_plot.annotate(format(p.get_height(), '.0f'), \n",
    "                   (p.get_x() + p.get_width() / 2., p.get_height()), \n",
    "                   ha = 'center', va = 'center', \n",
    "                   xytext = (0, 10), \n",
    "                   textcoords = 'offset points')\n",
    "\n",
    "plt.show()\n",
    "\n"
   ]
  },
  {
   "cell_type": "code",
   "execution_count": 26,
   "id": "549e70ff",
   "metadata": {},
   "outputs": [
    {
     "name": "stdout",
     "output_type": "stream",
     "text": [
      "  Topic  0  -  [('digitalnomad', 0.02065581512875382), ('travel', 0.01906435798554413), ('solotravel', 0.017821596683626414), ('traveltiktok', 0.015260859457773722), ('digitalnomadlife', 0.014240346264157436), ('digitalnomadlifestyle', 0.012840511075278536), ('to', 0.01226043985698316), ('fulltimetravel', 0.011984511174873437), ('digitalnomadgirl', 0.011350054107669276), ('you', 0.011267801024131404)]\n",
      "0  Topic  1  -  [('corporate', 0.0679257455538871...                                                                                                                                                                                                                                                                                                                                                                \n",
      "1  Topic  2  -  [('digitalnomadlifestyle', 0.0224...                                                                                                                                                                                                                                                                                                                                                                \n",
      "2  Topic  3  -  [('remote', 0.066227784430765), (...                                                                                                                                                                                                                                                                                                                                                                \n",
      "3  Topic  4  -  [('thailand', 0.02872531059345012...                                                                                                                                                                                                                                                                                                                                                                \n",
      "4  Topic  5  -  [('digitalnomadgirl', 0.072404180...                                                                                                                                                                                                                                                                                                                                                                \n"
     ]
    }
   ],
   "source": [
    "#Importing topic descriptions\n",
    "\n",
    "df_topic_description = pd.read_csv('analysis/desc_top.txt', delimiter='\\t')\n",
    "\n",
    "# Display the first few rows\n",
    "print(df_topic_description.head())"
   ]
  },
  {
   "cell_type": "code",
   "execution_count": 50,
   "id": "78ca5962",
   "metadata": {},
   "outputs": [
    {
     "name": "stdout",
     "output_type": "stream",
     "text": [
      "Keywords for topic 0: digitalnomad, travel, solotravel, traveltiktok, digitalnomadlife, digitalnomadlifestyle, to, fulltimetravel, digitalnomadgirl, you\n",
      "Keywords for topic 2: digitalnomadlifestyle, success, digitalnomad, digitalnomadlife, onlinebusinessowner, onlinebusiness, entrepreneur, digitalnomadgirl, you, life\n",
      "Keywords for topic 5: digitalnomadgirl, digitalnomad, digitalnomadlife, sevierville, gatlinburgtennessee, gatlinburg, digitálisnomádok, digitalnomadlifestyle, de, nomadadigital\n",
      "Keywords for topic 10: brazil, argentina, peru, guatemala, jujuy, selinalife, urielbetancourtideas, jerga, brazilians, con\n",
      "Keywords for topic 12: dubai, egypt, uae, pyramidsofgiza, foryou, arab, messi, balkantiktok, lebanon, tiktokegypt\n"
     ]
    }
   ],
   "source": [
    "# Import necessary libraries\n",
    "import re\n",
    "import ast\n",
    "\n",
    "# Define the topics you are interested in\n",
    "topics_of_interest = [0, 2, 5, 10, 12]\n",
    "\n",
    "# Initialize an empty dictionary to store keywords for each topic\n",
    "keywords_dict = {}\n",
    "\n",
    "# Open and read the file\n",
    "with open('analysis/desc_top.txt', 'r') as file:\n",
    "    for line in file:\n",
    "        # Split the line into topic number and keywords\n",
    "        topic_num_str, keywords_str = line.split(' - ', 1)\n",
    "        \n",
    "        # Extract the topic number\n",
    "        topic_num = int(re.search(r'\\d+', topic_num_str).group())\n",
    "\n",
    "        \n",
    "        # Check if the topic is in your topics of interest\n",
    "        if topic_num in topics_of_interest:\n",
    "            # Convert the keywords string to a list of tuples\n",
    "            keywords_list = ast.literal_eval(keywords_str.strip())\n",
    "\n",
    "            # Extract only the keywords, without their scores\n",
    "            keywords = [keyword for keyword, score in keywords_list]\n",
    "\n",
    "            # Add the keywords to your dictionary\n",
    "            keywords_dict[topic_num] = keywords\n",
    "        \n",
    "# Print the keywords for each topic of interest\n",
    "for topic, keywords in keywords_dict.items():\n",
    "    print(f\"Keywords for topic {topic}: {', '.join(keywords)}\")\n",
    "\n"
   ]
  },
  {
   "cell_type": "code",
   "execution_count": 48,
   "id": "325ea53d",
   "metadata": {},
   "outputs": [
    {
     "data": {
      "text/plain": [
       "\"[('digitalnomad', 0.02065581512875382), ('travel', 0.01906435798554413), ('solotravel', 0.017821596683626414), ('traveltiktok', 0.015260859457773722), ('digitalnomadlife', 0.014240346264157436), ('digitalnomadlifestyle', 0.012840511075278536), ('to', 0.01226043985698316), ('fulltimetravel', 0.011984511174873437), ('digitalnomadgirl', 0.011350054107669276), ('you', 0.011267801024131404)]\""
      ]
     },
     "execution_count": 48,
     "metadata": {},
     "output_type": "execute_result"
    }
   ],
   "source": [
    "keywords_str.strip()"
   ]
  },
  {
   "cell_type": "code",
   "execution_count": null,
   "id": "4b3c6aba",
   "metadata": {},
   "outputs": [],
   "source": []
  }
 ],
 "metadata": {
  "kernelspec": {
   "display_name": "new_env",
   "language": "python",
   "name": "new_env"
  },
  "language_info": {
   "codemirror_mode": {
    "name": "ipython",
    "version": 3
   },
   "file_extension": ".py",
   "mimetype": "text/x-python",
   "name": "python",
   "nbconvert_exporter": "python",
   "pygments_lexer": "ipython3",
   "version": "3.7.11"
  }
 },
 "nbformat": 4,
 "nbformat_minor": 5
}
